{
  "nbformat": 4,
  "nbformat_minor": 0,
  "metadata": {
    "colab": {
      "provenance": [],
      "authorship_tag": "ABX9TyM0pUk7l6m49EsraTWPcUyi",
      "include_colab_link": true
    },
    "kernelspec": {
      "name": "python3",
      "display_name": "Python 3"
    },
    "language_info": {
      "name": "python"
    }
  },
  "cells": [
    {
      "cell_type": "markdown",
      "metadata": {
        "id": "view-in-github",
        "colab_type": "text"
      },
      "source": [
        "<a href=\"https://colab.research.google.com/github/Mahendrareddy190/AI_AND_ML-/blob/main/Ai_and_ml.ipynb\" target=\"_parent\"><img src=\"https://colab.research.google.com/assets/colab-badge.svg\" alt=\"Open In Colab\"/></a>"
      ]
    },
    {
      "cell_type": "code",
      "execution_count": null,
      "metadata": {
        "colab": {
          "base_uri": "https://localhost:8080/"
        },
        "id": "MHqd7g6ByN26",
        "outputId": "4e40e9d9-9514-425a-c62b-5cfa70c76d07"
      },
      "outputs": [
        {
          "output_type": "stream",
          "name": "stdout",
          "text": [
            "peram mahendra reddy\n"
          ]
        }
      ],
      "source": [
        "print(\"peram mahendra reddy\")"
      ]
    },
    {
      "cell_type": "code",
      "source": [
        "print(\"\\\"what`s your name ?\\\"\")"
      ],
      "metadata": {
        "colab": {
          "base_uri": "https://localhost:8080/"
        },
        "id": "GWrJOCLuyYNC",
        "outputId": "55b20173-d7c8-49ca-e52f-3c8609e85141"
      },
      "execution_count": null,
      "outputs": [
        {
          "output_type": "stream",
          "name": "stdout",
          "text": [
            "\"what`s your name ?\"\n"
          ]
        }
      ]
    },
    {
      "cell_type": "code",
      "source": [
        "name=input()\n",
        "phoneno=int(input())\n",
        "rollno=input()\n",
        "print(f\"my name is {name} and roll number is {rollno}and {phoneno}\")"
      ],
      "metadata": {
        "colab": {
          "base_uri": "https://localhost:8080/"
        },
        "id": "pLN3ba-Cy4MC",
        "outputId": "9f41120a-daa0-4673-da80-31de80ba99b7"
      },
      "execution_count": null,
      "outputs": [
        {
          "output_type": "stream",
          "name": "stdout",
          "text": [
            "peram mahendra reddy\n",
            "94577436754\n",
            "2002cei0112\n",
            "my name is peram mahendra reddy and roll number is 2002cei0112and 94577436754\n"
          ]
        }
      ]
    },
    {
      "cell_type": "code",
      "source": [
        "a=int(input(\"enter the a value:-\"))\n",
        "b=int(input(\"enter the b value:-\"))\n",
        "choice=int(input(\"choice the operation 1.Add 2.sub 3.div 4.mul\"))\n",
        "if choice==1:\n",
        "      print(f\"the sum of a and b is:- {a+b}\")\n",
        "elif choice==1:\n",
        "     print(f\"the sub of a and b is:- {a-b}\")\n",
        "elif choice==1:\n",
        "      print(f\"the div of a and b is:- {a/b}\")\n",
        "else:\n",
        "      print(f\"the mul of a and b is:- {a*b}\")\n",
        "  \n"
      ],
      "metadata": {
        "colab": {
          "base_uri": "https://localhost:8080/"
        },
        "id": "jUAXATw31w2n",
        "outputId": "117c2ac9-6e5b-4059-ec2d-922651c72798"
      },
      "execution_count": null,
      "outputs": [
        {
          "output_type": "stream",
          "name": "stdout",
          "text": [
            "enter the a value:-2\n",
            "enter the b value:-4\n",
            "choice the operation 1.Add 2.sub 3.div 4.mul4\n",
            "the mul of a and b is:- 8\n"
          ]
        }
      ]
    },
    {
      "cell_type": "code",
      "source": [
        "rollno=input(\"enter the roll number:-\")\n",
        "k=rollno[5:8]\n",
        "if k == 'cei':\n",
        "  print(\"cse department\")\n",
        "elif k =='ece':\n",
        "  print(\"ece department\")\n",
        "else:\n",
        "  print(\"invalid option\")\n"
      ],
      "metadata": {
        "colab": {
          "base_uri": "https://localhost:8080/"
        },
        "id": "X3Eu3jBD3_0W",
        "outputId": "c3455488-6f33-44d3-f8a6-e0cd9e2b0376"
      },
      "execution_count": null,
      "outputs": [
        {
          "output_type": "stream",
          "name": "stdout",
          "text": [
            "enter the roll number:-20201cei0112\n",
            "cse department\n"
          ]
        }
      ]
    },
    {
      "cell_type": "code",
      "source": [
        "k=input(\"enter the name\")\n",
        "for i in range(len(k)):\n",
        "  print(\"peram mahendra\")"
      ],
      "metadata": {
        "colab": {
          "base_uri": "https://localhost:8080/"
        },
        "id": "ZiE5fUko5Q0u",
        "outputId": "34afe55b-66a0-4eb4-b9df-6afc734d0ef2"
      },
      "execution_count": null,
      "outputs": [
        {
          "output_type": "stream",
          "name": "stdout",
          "text": [
            "enter the namemahi\n",
            "peram mahendra\n",
            "peram mahendra\n",
            "peram mahendra\n",
            "peram mahendra\n"
          ]
        }
      ]
    },
    {
      "cell_type": "code",
      "source": [
        "inp=input()\n",
        "while True:\n",
        "  if len(inp)>=5:\n",
        "    break\n",
        "  elif len(inp)<5:\n",
        "     inp=input()"
      ],
      "metadata": {
        "colab": {
          "base_uri": "https://localhost:8080/"
        },
        "id": "SreS4IF657-l",
        "outputId": "3626139b-64fb-444c-ec09-684c98eb2891"
      },
      "execution_count": null,
      "outputs": [
        {
          "name": "stdout",
          "output_type": "stream",
          "text": [
            "mahi\n",
            "mahind\n"
          ]
        }
      ]
    },
    {
      "cell_type": "code",
      "source": [
        "row=int(input())\n",
        "col=int(input())\n",
        "for i in range(row):\n",
        "  for j in range(i,col):\n",
        "    print(\"*\",end='')\n",
        "  print('')\n",
        "\n",
        "    "
      ],
      "metadata": {
        "colab": {
          "base_uri": "https://localhost:8080/"
        },
        "id": "qzH05iej8Els",
        "outputId": "6489bc93-25f4-4fca-9ecc-57bd37460601"
      },
      "execution_count": null,
      "outputs": [
        {
          "output_type": "stream",
          "name": "stdout",
          "text": [
            "5\n",
            "5\n",
            "*****\n",
            "****\n",
            "***\n",
            "**\n",
            "*\n"
          ]
        }
      ]
    },
    {
      "cell_type": "code",
      "source": [
        "row=int(input())\n",
        "col=int(input())\n",
        "for i in range(row,-1,-1):\n",
        "  for j in range(i-1,col):\n",
        "    print(\"*\",end='')\n",
        "  print()"
      ],
      "metadata": {
        "colab": {
          "base_uri": "https://localhost:8080/"
        },
        "id": "G_JJT2sV9RJr",
        "outputId": "f84529c1-01c5-46c1-8e7c-e63df595d7de"
      },
      "execution_count": null,
      "outputs": [
        {
          "output_type": "stream",
          "name": "stdout",
          "text": [
            "5\n",
            "5\n",
            "*\n",
            "**\n",
            "***\n",
            "****\n",
            "*****\n",
            "******\n"
          ]
        }
      ]
    },
    {
      "cell_type": "code",
      "source": [
        "row=int(input())\n",
        "col=int(input())\n",
        "for i in range(row):\n",
        "  for j in range(i+1,col):\n",
        "    print(\" \",end='')\n",
        "  for k in range(5-i,row+1):\n",
        "      print(\"*\",end='')\n",
        "  print()"
      ],
      "metadata": {
        "colab": {
          "base_uri": "https://localhost:8080/"
        },
        "id": "9DFGiLNI9sEb",
        "outputId": "fb910548-7a75-4d05-ac35-edca817dd9b7"
      },
      "execution_count": null,
      "outputs": [
        {
          "output_type": "stream",
          "name": "stdout",
          "text": [
            "5\n",
            "5\n",
            "    *\n",
            "   **\n",
            "  ***\n",
            " ****\n",
            "*****\n"
          ]
        }
      ]
    },
    {
      "cell_type": "code",
      "source": [
        "row=int(input())\n",
        "col=int(input())\n",
        "for i in range(row,-1,-1):\n",
        "  for j in range(i,col):\n",
        "    print(\" \",end='')\n",
        "  for k in range(5-i,col):\n",
        "      print(\"*\",end='')\n",
        "  print()"
      ],
      "metadata": {
        "colab": {
          "base_uri": "https://localhost:8080/"
        },
        "id": "fcHANWCbAj-B",
        "outputId": "5faadc01-44a2-4531-db1a-bba29803134c"
      },
      "execution_count": null,
      "outputs": [
        {
          "output_type": "stream",
          "name": "stdout",
          "text": [
            "5\n",
            "5\n",
            "*****\n",
            " ****\n",
            "  ***\n",
            "   **\n",
            "    *\n",
            "     \n"
          ]
        }
      ]
    },
    {
      "cell_type": "code",
      "source": [
        "def add(a,b):\n",
        "   return(a+b)\n",
        "def sub(a,b):\n",
        "  return(a-b)\n",
        "def mul(a,b):\n",
        "  return (a*b)\n",
        "def div(a,b):\n",
        "  return (a/b)\n",
        "choice=int(input(\"enter the choice 1.Add 2.sub 3.mul 4.div\"))\n",
        "a=int(input(\"enter the a value\"))\n",
        "b=int(input(\"enter the b value\"))\n",
        "if choice==1:\n",
        "  k=add(a,b)\n",
        "  print(f\"the sum of {a} and {b} is {k}\")\n",
        "elif choice==2:\n",
        "  print(f\"the sub of {a} and {b} is\",sub(a,b))\n",
        "elif choice==3:\n",
        "  print(f\"the mul of {a} and {b} is\",mul(a,b))\n",
        "elif choice==4:\n",
        "  print(f\"the div of {a} and {b} is\",div(a,b))\n",
        "else:\n",
        "  print(\"invalid option\") \n"
      ],
      "metadata": {
        "id": "f8qNK7KEFLeW",
        "colab": {
          "base_uri": "https://localhost:8080/"
        },
        "outputId": "e470bdd4-cbcd-42e8-e457-8b7d477965f2"
      },
      "execution_count": null,
      "outputs": [
        {
          "output_type": "stream",
          "name": "stdout",
          "text": [
            "enter the choice 1.Add 2.sub 3.mul 4.div1\n",
            "enter the a value10\n",
            "enter the b value20\n",
            "the sum of 10 and 20 is 30\n"
          ]
        }
      ]
    },
    {
      "cell_type": "code",
      "source": [
        "row=5\n",
        "col=5\n",
        "for i in range(row):\n",
        "  for j in range(i+1,col):\n",
        "    print(\" \",end='')\n",
        "  for k in range((5-i)-1,col):\n",
        "      print(\"*\",end='')\n",
        "  print()"
      ],
      "metadata": {
        "colab": {
          "base_uri": "https://localhost:8080/"
        },
        "id": "AQHxCDhGQuos",
        "outputId": "de5c5063-c211-49c7-f98d-3cf0c177eac0"
      },
      "execution_count": null,
      "outputs": [
        {
          "output_type": "stream",
          "name": "stdout",
          "text": [
            "    *\n",
            "   **\n",
            "  ***\n",
            " ****\n",
            "*****\n"
          ]
        }
      ]
    },
    {
      "cell_type": "code",
      "source": [
        "result=[]\n",
        "en=int(input(\"enter the number of villagers ages need to be taken\"))\n",
        "for i in range(en):\n",
        "  age=int(input(\"Enter the age\"))\n",
        "  if age>=1 and age<=5:\n",
        "     result.append(\"infant\")\n",
        "  elif age>=6 and age<=13:\n",
        "     result.append(\"child\")\n",
        "  elif age>=14 and age<=18:\n",
        "     result.append(\"teen\")\n",
        "  elif age>=19 and age<=35:\n",
        "     result.append(\"young\")\n",
        "  elif age>=36 and age<=60:\n",
        "     result.append(\"adult\")\n",
        "  else:\n",
        "     result.append(\"senior citizen\")\n",
        "print(\"result:-\",result)\n"
      ],
      "metadata": {
        "colab": {
          "base_uri": "https://localhost:8080/"
        },
        "id": "pqmTgUf7XEvh",
        "outputId": "51631bae-c3ba-452d-c66b-8434647e1abd"
      },
      "execution_count": null,
      "outputs": [
        {
          "output_type": "stream",
          "name": "stdout",
          "text": [
            "enter the number of villagers ages need to be taken5\n",
            "Enter the age52\n",
            "Enter the age65\n",
            "Enter the age10\n",
            "Enter the age45\n",
            "Enter the age95\n",
            "result:- ['adult', 'senior citizen', 'child', 'adult', 'senior citizen']\n"
          ]
        }
      ]
    },
    {
      "cell_type": "code",
      "source": [
        "result=()\n",
        "k=list(result)\n",
        "for i in range(5):\n",
        "  marks=int(input(\"Enter the marks\"))\n",
        "  k.append(marks)\n",
        "print(tuple(k))\n",
        "print(\"highest mark\",max(k))\n",
        "print(\"lowest mark\",min(k))\n",
        "print(\"avg:-\",(sum(k)//5))\n",
        "  "
      ],
      "metadata": {
        "colab": {
          "base_uri": "https://localhost:8080/"
        },
        "id": "fBP8X4CXeGE_",
        "outputId": "45a8973d-7f83-4c6e-94c4-eb202a2a64ff"
      },
      "execution_count": null,
      "outputs": [
        {
          "output_type": "stream",
          "name": "stdout",
          "text": [
            "Enter the marks10\n",
            "Enter the marks20\n",
            "Enter the marks30\n",
            "Enter the marks40\n",
            "Enter the marks50\n",
            "(10, 20, 30, 40, 50)\n",
            "highest mark 50\n",
            "lowest mark 10\n",
            "avg:- 30\n"
          ]
        }
      ]
    },
    {
      "cell_type": "code",
      "source": [
        "result=()\n",
        "k=list(result)\n",
        "int1=int(input(\"enter the number of integers \"))\n",
        "for i in range(int1):\n",
        "  val=int(input(\"Enter the interger\"))\n",
        "  k.append(val)\n",
        "k1={}\n",
        "for i in k:\n",
        "  if i in k1:\n",
        "     k1[i]=k1[i]+1\n",
        "  else:\n",
        "    k1[i]=1\n",
        "m=[]\n",
        "for i in k1:\n",
        "  m.append((i,k1[i]))\n",
        "print(tuple(m))\n",
        "   \n",
        "  "
      ],
      "metadata": {
        "colab": {
          "base_uri": "https://localhost:8080/"
        },
        "id": "kvBc6FIUg7I2",
        "outputId": "1c1c9c3e-15c1-4d66-def2-362f9ab3d5a1"
      },
      "execution_count": null,
      "outputs": [
        {
          "output_type": "stream",
          "name": "stdout",
          "text": [
            "enter the number of integers 7\n",
            "Enter the interger1\n",
            "Enter the interger2\n",
            "Enter the interger1\n",
            "Enter the interger3\n",
            "Enter the interger4\n",
            "Enter the interger2\n",
            "Enter the interger4\n",
            "((1, 2), (2, 2), (3, 1), (4, 2))\n"
          ]
        }
      ]
    }
  ]
}